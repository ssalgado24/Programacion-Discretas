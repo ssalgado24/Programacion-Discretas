{
  "nbformat": 4,
  "nbformat_minor": 0,
  "metadata": {
    "colab": {
      "name": "Taller Programación",
      "provenance": [],
      "authorship_tag": "ABX9TyMJFHgKXSuxSql1vI8ELVsp",
      "include_colab_link": true
    },
    "kernelspec": {
      "name": "python3",
      "display_name": "Python 3"
    }
  },
  "cells": [
    {
      "cell_type": "markdown",
      "metadata": {
        "id": "view-in-github",
        "colab_type": "text"
      },
      "source": [
        "<a href=\"https://colab.research.google.com/github/ssalgado24/Programacion-Discretas/blob/master/Taller_Programaci%C3%B3n.ipynb\" target=\"_parent\"><img src=\"https://colab.research.google.com/assets/colab-badge.svg\" alt=\"Open In Colab\"/></a>"
      ]
    },
    {
      "cell_type": "markdown",
      "metadata": {
        "id": "EBTIlegImS7P",
        "colab_type": "text"
      },
      "source": [
        "**TALLER PROGRAMACIÓN**"
      ]
    },
    {
      "cell_type": "markdown",
      "metadata": {
        "id": "v-2kEAt1mWWE",
        "colab_type": "text"
      },
      "source": [
        "**Números de Lucas**\n",
        "\n",
        "Los números de Lucas están relacionado con los números de Fibonacci, y están definidos por la siguiente secuencia  Ln+2=Ln+1+Ln ,  L0=2 ,  L1=1 . Escriba un programa que imprima la siguiente información. El 18-th número de Lucas, el número de Lucas más cercano a 1000, y el primer número de Lucas más grande que 100\n",
        "\n",
        "\n",
        "\n"
      ]
    },
    {
      "cell_type": "code",
      "metadata": {
        "id": "rrUf8DugrmoU",
        "colab_type": "code",
        "colab": {
          "base_uri": "https://localhost:8080/",
          "height": 68
        },
        "outputId": "33a28ce7-451f-464c-d431-f9d797d387a4"
      },
      "source": [
        "import math\n",
        "lucas=[]\n",
        "mayores=[]\n",
        "resta=[]\n",
        "for i in range(0,19):\n",
        "  a=round((pow(((1+math.sqrt(5))/2),i))+(pow(((1-math.sqrt(5))/2),i)))\n",
        "  lucas.append(a)\n",
        "  if lucas[i]>100:\n",
        "    mayores.append(lucas[i])\n",
        "  #print(a)\n",
        "  dif=abs(1000-lucas[i])\n",
        "  resta.append(dif)\n",
        "menor=resta[0]\n",
        "for i in range(len(resta)):\n",
        "  if resta[i]<menor:\n",
        "    menor=resta[i]\n",
        "    posicion=i\n",
        "print(\"El 18-th número de Lucas es \"+ str(lucas[18]))\n",
        "print(\"El número de Lucas más cercano a 1000 es \"+ str(lucas[posicion]))\n",
        "print(\"El primer número de Lucas mayor que 100 es \"+ str(mayores[0]))\n"
      ],
      "execution_count": null,
      "outputs": [
        {
          "output_type": "stream",
          "text": [
            "El 18-th número de Lucas es 5778\n",
            "El número de Lucas más cercano a 1000 es es 843\n",
            "El primer número de Lucas mayor que 100 es 123\n"
          ],
          "name": "stdout"
        }
      ]
    },
    {
      "cell_type": "markdown",
      "metadata": {
        "id": "0rVbxizoLqwj",
        "colab_type": "text"
      },
      "source": [
        "**Algoritmo RSA**\n"
      ]
    },
    {
      "cell_type": "markdown",
      "metadata": {
        "id": "eXOnVimCrBGU",
        "colab_type": "text"
      },
      "source": [
        ""
      ]
    }
  ]
}